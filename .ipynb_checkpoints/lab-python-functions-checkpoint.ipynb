{
 "cells": [
  {
   "cell_type": "markdown",
   "id": "25d7736c-ba17-4aff-b6bb-66eba20fbf4e",
   "metadata": {},
   "source": [
    "# Lab | Functions"
   ]
  },
  {
   "cell_type": "markdown",
   "id": "0c581062-8967-4d93-b06e-62833222f930",
   "metadata": {
    "tags": []
   },
   "source": [
    "## Exercise: Managing Customer Orders with Functions\n",
    "\n",
    "In the previous exercise, you improved the code for managing customer orders by using loops and flow control. Now, let's take it a step further and refactor the code by introducing functions.\n",
    "\n",
    "Follow the steps below to complete the exercise:\n",
    "\n",
    "1. Define a function named `initialize_inventory` that takes `products` as a parameter. Inside the function, implement the code for initializing the inventory dictionary using a loop and user input.\n",
    "\n",
    "2. Define a function named `get_customer_orders` that takes no parameters. Inside the function, implement the code for prompting the user to enter the product names using a loop. The function should return the `customer_orders` set.\n",
    "\n",
    "3. Define a function named `update_inventory` that takes `customer_orders` and `inventory` as parameters. Inside the function, implement the code for updating the inventory dictionary based on the customer orders.\n",
    "\n",
    "4. Define a function named `calculate_order_statistics` that takes `customer_orders` and `products` as parameters. Inside the function, implement the code for calculating the order statistics (total products ordered, and percentage of unique products ordered). The function should return these values.\n",
    "\n",
    "5. Define a function named `print_order_statistics` that takes `order_statistics` as a parameter. Inside the function, implement the code for printing the order statistics.\n",
    "\n",
    "6. Define a function named `print_updated_inventory` that takes `inventory` as a parameter. Inside the function, implement the code for printing the updated inventory.\n",
    "\n",
    "7. Call the functions in the appropriate sequence to execute the program and manage customer orders.\n",
    "\n",
    "Hints for functions:\n",
    "\n",
    "- Consider the input parameters required for each function and their return values.\n",
    "- Utilize function parameters and return values to transfer data between functions.\n",
    "- Test your functions individually to ensure they work correctly.\n",
    "\n",
    "\n"
   ]
  },
  {
   "cell_type": "code",
   "execution_count": 35,
   "id": "4f04e210-1bfa-47db-9907-0d36cd129831",
   "metadata": {},
   "outputs": [],
   "source": [
    "# Question 1\n",
    "products = [\"t-shirt\", \"mug\", \"hat\", \"book\", \"keychain\"]\n",
    "inventory = {}\n",
    "def initialize_inventory(products):\n",
    "    for i in products: #i changes each time it goes around in the products list\n",
    "        amount = int(input(f\"Enter Amount:{i}\"))\n",
    "        inventory[i] = amount \n",
    "    return inventory"
   ]
  },
  {
   "cell_type": "code",
   "execution_count": 37,
   "id": "deb12cc0-4cbe-4eef-bb6b-0b8489008c01",
   "metadata": {},
   "outputs": [
    {
     "name": "stdin",
     "output_type": "stream",
     "text": [
      "Enter Amount:t-shirt 5\n",
      "Enter Amount:mug 5\n",
      "Enter Amount:hat 5\n",
      "Enter Amount:book 5\n",
      "Enter Amount:keychain 5\n"
     ]
    }
   ],
   "source": [
    "inventory=initialize_inventory(products)"
   ]
  },
  {
   "cell_type": "code",
   "execution_count": 39,
   "id": "579ed733-5f1d-4e9d-b10d-899b143f1c17",
   "metadata": {},
   "outputs": [
    {
     "data": {
      "text/plain": [
       "{'t-shirt': 5, 'mug': 5, 'hat': 5, 'book': 5, 'keychain': 5}"
      ]
     },
     "execution_count": 39,
     "metadata": {},
     "output_type": "execute_result"
    }
   ],
   "source": [
    "inventory"
   ]
  },
  {
   "cell_type": "code",
   "execution_count": 25,
   "id": "a3e3d89a-8c44-46f5-be76-0c9cc1fe502f",
   "metadata": {},
   "outputs": [],
   "source": [
    "#Question 2\n",
    "products = [\"t-shirt\", \"mug\", \"hat\", \"book\", \"keychain\"]\n",
    "def get_customer_orders():\n",
    "    customer_order = set()\n",
    "    answer=\"y\"\n",
    "\n",
    "    while answer.lower() == \"y\":\n",
    "        item = input(\"Enter Product To Order: \")\n",
    "        customer_order.add(item)\n",
    "        answer = input(\"Do you want to add another product? (y/n): \")\n",
    "    print(customer_order)\n",
    "    return customer_order\n",
    "    \n",
    "\n",
    "\n"
   ]
  },
  {
   "cell_type": "code",
   "execution_count": 27,
   "id": "32a3f5d3-1747-435f-a83a-72fdae446112",
   "metadata": {},
   "outputs": [
    {
     "name": "stdin",
     "output_type": "stream",
     "text": [
      "Enter Product To Order:  mug\n",
      "Do you want to add another product? (y/n):  y\n",
      "Enter Product To Order:  hat\n",
      "Do you want to add another product? (y/n):  n\n"
     ]
    },
    {
     "name": "stdout",
     "output_type": "stream",
     "text": [
      "{'hat', 'mug'}\n"
     ]
    }
   ],
   "source": [
    "customer_orders = get_customer_orders()"
   ]
  },
  {
   "cell_type": "code",
   "execution_count": 29,
   "id": "fa836b1b-fc0b-4898-95c6-73313098592d",
   "metadata": {},
   "outputs": [],
   "source": [
    "# Question 3\n",
    "def update_inventory(customer_orders, inventory):\n",
    "    for item in customer_orders:\n",
    "        if inventory[item] > 0:\n",
    "            inventory[item] -= 1 ## This is a hard coded number because hat=1 and mug =1.\n",
    "        else:\n",
    "            None \n",
    "    return inventory\n",
    "\n",
    "\n"
   ]
  },
  {
   "cell_type": "code",
   "execution_count": 31,
   "id": "9b741197-c4fb-4e8c-8165-d529552fd9ac",
   "metadata": {},
   "outputs": [
    {
     "data": {
      "text/plain": [
       "{'t-shirt': '5', 'mug': '5', 'hat': '5', 'book': '5', 'keychain': '5'}"
      ]
     },
     "execution_count": 31,
     "metadata": {},
     "output_type": "execute_result"
    }
   ],
   "source": [
    "inventory"
   ]
  },
  {
   "cell_type": "code",
   "execution_count": 41,
   "id": "eb756a27-eb0d-41f9-963b-5c9a3561571d",
   "metadata": {},
   "outputs": [
    {
     "data": {
      "text/plain": [
       "{'t-shirt': 5, 'mug': 4, 'hat': 4, 'book': 5, 'keychain': 5}"
      ]
     },
     "execution_count": 41,
     "metadata": {},
     "output_type": "execute_result"
    }
   ],
   "source": [
    "update_inventory(customer_orders, inventory)"
   ]
  },
  {
   "cell_type": "code",
   "execution_count": null,
   "id": "7dcc6146-66e9-4547-b9f3-74a2f41adbfe",
   "metadata": {},
   "outputs": [],
   "source": []
  }
 ],
 "metadata": {
  "kernelspec": {
   "display_name": "Python [conda env:base] *",
   "language": "python",
   "name": "conda-base-py"
  },
  "language_info": {
   "codemirror_mode": {
    "name": "ipython",
    "version": 3
   },
   "file_extension": ".py",
   "mimetype": "text/x-python",
   "name": "python",
   "nbconvert_exporter": "python",
   "pygments_lexer": "ipython3",
   "version": "3.12.7"
  }
 },
 "nbformat": 4,
 "nbformat_minor": 5
}
